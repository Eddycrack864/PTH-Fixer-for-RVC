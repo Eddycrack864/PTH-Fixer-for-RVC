{
  "nbformat": 4,
  "nbformat_minor": 0,
  "metadata": {
    "colab": {
      "provenance": []
    },
    "kernelspec": {
      "name": "python3",
      "display_name": "Python 3"
    },
    "language_info": {
      "name": "python"
    }
  },
  "cells": [
    {
      "cell_type": "markdown",
      "source": [
        "# **PTH FIXER FOR RVC MODELS**\n",
        "## Applio has recently updated its version of PyTorch so recently trained models may not work on:\n",
        "* Hugging Face Spaces (Like Ilaria RVC)\n",
        "* W Okada Realtime Voice Changer\n",
        "* Mainline or Mangio based Colab Notebooks\n",
        "\n",
        "It appears that when the project transitioned to the new version of PyTorch, some key names in the dictionaries were altered. This change has rendered me unable to use a .pth file generated with Applio in the original RVC webUI.\n",
        "\n",
        "### Credits to [LightningDragon](https://github.com/LightningDragon); [alexolotl](http://discord.com/users/718415427994124351) and [Not Eddy](http://discord.com/users/274566299349155851) staff of [AI HUB](https://discord.gg/aihub) server.\n",
        "\n",
        "If you have any problem with this notebook you can ping [Not Eddy (Spanish Mod)](http://discord.com/users/274566299349155851)"
      ],
      "metadata": {
        "id": "7hyIkMgZU4vH"
      }
    },
    {
      "cell_type": "code",
      "source": [
        "#@title # **1. Setup**\n",
        "#@markdown Before running this cell create a folder called 'pthfix' in your GDrive and upload the .pth files you want to convert.\n",
        "!pip install torch==2.1.1\n",
        "from google.colab import drive\n",
        "import os\n",
        "import torch\n",
        "from collections import OrderedDict\n",
        "from IPython.display import clear_output\n",
        "drive.mount('/content/drive')\n",
        "main_folder_path = '/content/drive/MyDrive/pthfix'\n",
        "fixed_folder_path = os.path.join(main_folder_path, 'Fixed')\n",
        "clear_output()\n",
        "if os.path.exists(main_folder_path):\n",
        "    print(\"The pthfix folder already exists. You can continue.\")\n",
        "else:\n",
        "    print(\"The pthfix folder has not been created by the user. Manually create the folder before continuing.\")"
      ],
      "metadata": {
        "cellView": "form",
        "id": "Sqjf1vO70Qw_"
      },
      "execution_count": null,
      "outputs": []
    },
    {
      "cell_type": "code",
      "source": [
        "#@title # **2. Conversion**\n",
        "os.chdir(main_folder_path)\n",
        "if not os.path.exists(fixed_folder_path):\n",
        "    os.makedirs(fixed_folder_path)\n",
        "    print(\"The 'Fixed' folder has been created'\")\n",
        "else:\n",
        "    print(\"The 'Fixed' folder already exists. OK!\")\n",
        "# LightningDragon code slightly modified\n",
        "def replace_keys_in_dict(d, old_key_part, new_key_part):\n",
        "    if isinstance(d, OrderedDict):\n",
        "        updated_dict = OrderedDict()\n",
        "    else:\n",
        "        updated_dict = {}\n",
        "    for key, value in d.items():\n",
        "        if isinstance(key, str):\n",
        "            new_key = key.replace(old_key_part, new_key_part)\n",
        "        else:\n",
        "            new_key = key\n",
        "        if isinstance(value, dict):\n",
        "            value = replace_keys_in_dict(value, old_key_part, new_key_part)\n",
        "        updated_dict[new_key] = value\n",
        "    return updated_dict\n",
        "os.chdir(main_folder_path)\n",
        "if not os.path.exists(fixed_folder_path):\n",
        "    os.makedirs(fixed_folder_path)\n",
        "    print(\"The 'Fixed' folder has been created\")\n",
        "else:\n",
        "    print(\"The 'Fixed' folder already exists. OK!\")\n",
        "pth_files = [file for file in os.listdir(main_folder_path) if file.endswith('.pth') and not os.path.join(main_folder_path, file).startswith(fixed_folder_path)]\n",
        "if len(pth_files) == 0:\n",
        "    print(\"No .pth files found. Load at least one and run the cell again.\")\n",
        "else:\n",
        "    print(f'Found .pth files: {len(pth_files)}')\n",
        "    for pth_file in pth_files:\n",
        "        pth_file_path = os.path.join(main_folder_path, pth_file)\n",
        "        cgp_grey = torch.load(pth_file_path, map_location=torch.device('cpu'))\n",
        "        processed_dict = replace_keys_in_dict(replace_keys_in_dict(cgp_grey, '.parametrizations.weight.original1', '.weight_v'), '.parametrizations.weight.original0', '.weight_g')\n",
        "        new_file_name = pth_file.replace('.pth', '_fixed.pth')\n",
        "        new_file_path = os.path.join(fixed_folder_path, new_file_name)\n",
        "        torch.save(processed_dict, new_file_path)\n",
        "        print(f\"File processed and saved in 'Fixed' folder: {new_file_name}\")"
      ],
      "metadata": {
        "cellView": "form",
        "id": "wx_0EaAAczDx"
      },
      "execution_count": null,
      "outputs": []
    }
  ]
}
